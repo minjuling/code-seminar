{
 "cells": [
  {
   "cell_type": "markdown",
   "metadata": {},
   "source": [
    "DataLoader"
   ]
  },
  {
   "cell_type": "code",
   "execution_count": null,
   "metadata": {},
   "outputs": [],
   "source": [
    "# * build DATALODER * #\n",
    "train_loader = build_train_loader(cfg)\n",
    "val_loader = build_val_loader(cfg)"
   ]
  },
  {
   "cell_type": "markdown",
   "metadata": {},
   "source": [
    "buildDataloader.py"
   ]
  },
  {
   "cell_type": "code",
   "execution_count": null,
   "metadata": {},
   "outputs": [],
   "source": [
    "import importlib\n",
    "\n",
    "import torch\n",
    "import torch.distributed as dist\n",
    "\n",
    "def build_train_loader(cfg):\n",
    "\n",
    "    dataModule = importlib.import_module('data.'+cfg.DATA.SET)\n",
    "    Dataset = getattr(dataModule, 'Dataset')\n",
    "    train_data = Dataset(cfg, mode='train')\n",
    "\n",
    "    if dist.is_initialized():\n",
    "        from torch.utils.data.distributed import DistributedSampler\n",
    "        sampler = DistributedSampler(train_data)\n",
    "    else:\n",
    "        sampler =  None\n",
    "\n",
    "    data_loader = torch.utils.data.DataLoader(train_data,\n",
    "                            num_workers= cfg.SYS.WORKERS,\n",
    "                            batch_size=cfg.TRAIN.BATCH_SIZE//len(cfg.SYS.GPUS),\n",
    "                            shuffle=cfg.DATA.SHUFFLE,\n",
    "                            pin_memory=cfg.SYS.PIN_MEMORY,\n",
    "                            drop_last=cfg.DATA.DROP_LAST,\n",
    "                            sampler=sampler)\n",
    "\n",
    "    return data_loader\n",
    "\n",
    "def build_val_loader(cfg):\n",
    "\n",
    "    dataModule = importlib.import_module('data.'+cfg.DATA.SET)\n",
    "    Dataset = getattr(dataModule, 'Dataset')\n",
    "    val_data = Dataset(cfg, mode='val')\n",
    "\n",
    "    if dist.is_initialized():\n",
    "        from torch.utils.data.distributed import DistributedSampler\n",
    "        sampler = DistributedSampler(val_data)\n",
    "    else:\n",
    "        sampler =  None\n",
    "\n",
    "    data_loader = torch.utils.data.DataLoader(val_data,\n",
    "                                            num_workers=cfg.SYS.WORKERS,\n",
    "                                            batch_size= cfg.TRAIN.BATCH_SIZE_VAL//len(cfg.SYS.GPUS),\n",
    "                                            shuffle=cfg.DATA.SHUFFLE,\n",
    "                                            pin_memory=cfg.SYS.PIN_MEMORY,\n",
    "                                            drop_last=cfg.DATA.DROP_LAST,\n",
    "                                            sampler=sampler)\n",
    "\n",
    "    return data_loader\n",
    "    \n",
    "#! TODO\n",
    "def build_test_loader(cfg):\n",
    "\n",
    "    dataModule = importlib.import_module('data.'+cfg.DATA.SET)\n",
    "    Dataset = getattr(dataModule, 'Dataset')\n",
    "    test = Dataset(cfg, mode='test')\n",
    "\n",
    "    if dist.is_initialized():\n",
    "        from torch.utils.data.distributed import DistributedSampler\n",
    "        sampler = DistributedSampler(val_data)\n",
    "    else:\n",
    "        sampler =  None\n",
    "\n",
    "    data_loader = torch.utils.data.DataLoader(test_data,\n",
    "                                            num_workers=4,\n",
    "                                            batch_size=1,\n",
    "                                            shuffle=False,\n",
    "                                            pin_memory=True,\n",
    "                                            sampler=None)\n",
    "\n",
    "\n",
    "if __name__=='__main__':\n",
    "    import torchvision\n",
    "    import matplotlib.pyplot as plt\n",
    "    import matplotlib.colors as clr\n",
    "    from data import transform\n",
    "\n",
    "    root='data/cityscapes/'\n",
    "    # print(root)\n",
    "    value_scale = 255\n",
    "    mean = [0.485, 0.456, 0.406]\n",
    "    mean = [item * value_scale for item in mean]\n",
    "    std = [0.229, 0.224, 0.225]\n",
    "    std = [item * value_scale for item in std]\n",
    "\n",
    "    dataset = Cityscapes(root,transforms=train_transform)\n",
    "\n",
    "    img, label =dataset.__getitem__(0)\n",
    "    print(img.dtype)\n",
    "    print(label.shape)\n",
    "    fig_in = plt.figure()\n",
    "    ax = fig_in.add_subplot(1,2,1)\n",
    "    ax.imshow(img)\n",
    "    ax = fig_in.add_subplot(1,2,2)\n",
    "    ax.imshow(label)\n",
    "    plt.show()\n"
   ]
  },
  {
   "cell_type": "markdown",
   "metadata": {},
   "source": [
    "DataSet Class"
   ]
  },
  {
   "cell_type": "markdown",
   "metadata": {},
   "source": [
    "Build Dataloader"
   ]
  },
  {
   "cell_type": "markdown",
   "metadata": {},
   "source": [
    "Data Transform"
   ]
  }
 ],
 "metadata": {
  "language_info": {
   "name": "python"
  },
  "orig_nbformat": 4
 },
 "nbformat": 4,
 "nbformat_minor": 2
}
