{
 "cells": [
  {
   "cell_type": "markdown",
   "metadata": {},
   "source": [
    "# Markdown!"
   ]
  },
  {
   "cell_type": "markdown",
   "metadata": {},
   "source": [
    "# 가장 큰 글자\n",
    "## 두번째로 큰 글자\n",
    "### 세번째로 큰 글자\n",
    "#### 네번째로 큰 글자\n",
    "##### 다섯번째로 큰 글자\n",
    "###### 여섯번째로 큰 글자\n",
    "####### 보통 글자\n",
    "\n",
    "----------------------"
   ]
  },
  {
   "cell_type": "markdown",
   "metadata": {},
   "source": [
    "첫 번째 문장입니다. \n",
    "enter만 했을때!"
   ]
  },
  {
   "cell_type": "markdown",
   "metadata": {},
   "source": [
    "첫 번째 문장!  \n",
    "띄어쓰기 2번 후 엔터"
   ]
  },
  {
   "cell_type": "markdown",
   "metadata": {},
   "source": [
    "첫 번째 문장! <br>\n",
    "<'br'> 쓰기!\n",
    "\n",
    "----------------------"
   ]
  },
  {
   "cell_type": "markdown",
   "metadata": {},
   "source": [
    "1. 일\n",
    "2. 이\n",
    "3. 삼\n",
    "\n",
    "+ 일\n",
    "+ 이\n",
    "+ 삼\n",
    "\n",
    "- 일\n",
    "- 이\n",
    "- 삼\n",
    "\n",
    "* 일\n",
    "* 이\n",
    "* 삼"
   ]
  },
  {
   "cell_type": "markdown",
   "metadata": {},
   "source": [
    "+ 일\n",
    "    + 이\n",
    "        + 삼\n",
    "\n",
    "- 일\n",
    "    - 이\n",
    "        - 삼\n",
    "\n",
    "* 일\n",
    "    * 이\n",
    "        * 삼"
   ]
  },
  {
   "cell_type": "markdown",
   "metadata": {},
   "source": [
    "*  *  *\n",
    "***\n",
    "*****\n",
    "- - -\n",
    "----------------------"
   ]
  },
  {
   "cell_type": "markdown",
   "metadata": {},
   "source": [
    "*기울어진 글씨*  \n",
    "_기울어진 글씨_  \n",
    "**굵은 글씨**  \n",
    "__굵은 글씨__  \n",
    "~~줄그어진 글씨~~  \n",
    "`글씨 칠하기`"
   ]
  },
  {
   "cell_type": "markdown",
   "metadata": {},
   "source": [
    "링크 걸기  \n",
    "https://github.com/minjuling/code-seminar  \n",
    "[code-seminar](https://github.com/minjuling/code-seminar)  \n"
   ]
  },
  {
   "cell_type": "markdown",
   "metadata": {},
   "source": [
    "![이미지](https://www.google.com/url?sa=i&url=https%3A%2F%2Fwww.pexels.com%2Fko-kr%2Fphoto%2F127577%2F&psig=AOvVaw3CH7i2Q_qewG86RMO-YpSy&ust=1642184844897000&source=images&cd=vfe&ved=0CAsQjRxqFwoTCMi5tLWtr_UCFQAAAAAdAAAAABAD)"
   ]
  },
  {
   "cell_type": "markdown",
   "metadata": {},
   "source": [
    ">인용구"
   ]
  },
  {
   "cell_type": "markdown",
   "metadata": {},
   "source": [
    "코드 주석 달기\n",
    "```python\n",
    "import pandas as pd\n",
    "import numpy as np \n",
    "\n",
    "print('Hello World')\n",
    "```"
   ]
  },
  {
   "cell_type": "markdown",
   "metadata": {},
   "source": [
    "index | 변수1 | 변수2 | 변수3\n",
    "---|---|---|---\n",
    "1 | v1 | v2 | v3\n",
    "2 | v11 | v22 | v33"
   ]
  },
  {
   "cell_type": "markdown",
   "metadata": {},
   "source": [
    "ctrl + enter: 현재 cell만 실행  \n",
    "shift + enter: 현재 cell 실행 후 다음으로 넘어가기  \n",
    "  \n",
    "a: 위에 cell 추가  \n",
    "b: 아래에 cell 추가  \n",
    "v: 아래 cell 붙여넣기  \n",
    "shift + v: 위에 cell 붙여넣기  \n",
    "  \n",
    "f: cell 내부에서 검색하기  \n",
    "  \n",
    "m: 현재 cell 마크다운으로 변경  \n",
    "y: 현재 cell 코드로 변경  \n",
    "dd: delete cell"
   ]
  },
  {
   "cell_type": "code",
   "execution_count": null,
   "metadata": {},
   "outputs": [],
   "source": []
  }
 ],
 "metadata": {
  "interpreter": {
   "hash": "735ca55e8a53331c767e7660433af029be6a86c33db711221777f5c3fb9431ee"
  },
  "kernelspec": {
   "display_name": "Python 3.8.12 64-bit ('kaucar': conda)",
   "language": "python",
   "name": "python3"
  },
  "language_info": {
   "name": "python",
   "version": "3.8.12"
  },
  "orig_nbformat": 4
 },
 "nbformat": 4,
 "nbformat_minor": 2
}
