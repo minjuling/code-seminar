{
 "cells": [
  {
   "cell_type": "markdown",
   "metadata": {},
   "source": [
    "## Dataset\n",
    "\n",
    "**training data를 loading 하기 위한 class**\n",
    "\n",
    "#### dataset에서 하는 일\n",
    "- training data가 저장된 directory에서 `data 읽어 들이기`\n",
    "- train 하기 위한 data로 만들어주기\n",
    "- `data augmentation`\n",
    "\n",
    "#### dataset class function\n",
    "+ __input__:  전체 input feature tensor와 target tensor\n",
    "<br>\n",
    "<br>\n",
    "\n",
    "+ __init__(self): \n",
    "    + 필요한 변수 선언. 전체 x_data와 y_data load하거나 파일목록을 load\n",
    "    + training data가 저장되어 있는 disk location으로부터 training 할 image file 이름을 불러오기\n",
    "    + data augmentation을 위해 필요한 값들 설정  \n",
    "<br>\n",
    "\n",
    "+ __get_item__(self, index): \n",
    "    + idx에 해당하는 training data(torch.tensor)를 return\n",
    "    + 모든 return 값들의 tensor shape이 같아야 함. collate_fn()때문\n",
    "    + 학습 전 preprocessing을 진행\n",
    "    + data augmentation 진행  \n",
    "<br>\n",
    "\n",
    "+ __len__(self): \n",
    "    + len은 training 하기 위한 전체 dataset의 길이를 return\n",
    "    + 여기서 정의된 len에 따라 한 epoch동안 training할 dataset의 길이가 결정 -> mini batch가 만들어짐"
   ]
  },
  {
   "cell_type": "code",
   "execution_count": 3,
   "metadata": {},
   "outputs": [],
   "source": [
    "#기본 Dataset class\n",
    "class BasicDataset(data.Dataset):\n",
    "    def __init__(self, x_tensor, y_tensor):\n",
    "        super(BasicDataset, self).__init__()\n",
    "\n",
    "        self.x = x_tensor\n",
    "        self.y = y_tensor\n",
    "        \n",
    "    def __getitem__(self, index):\n",
    "        return self.x[index], self.y[index]\n",
    "\n",
    "    def __len__(self):\n",
    "        return len(self.x)"
   ]
  },
  {
   "cell_type": "markdown",
   "metadata": {},
   "source": [
    "# daataset example"
   ]
  },
  {
   "cell_type": "code",
   "execution_count": 1,
   "metadata": {},
   "outputs": [
    {
     "ename": "ModuleNotFoundError",
     "evalue": "No module named 'torch'",
     "output_type": "error",
     "traceback": [
      "\u001b[0;31m---------------------------------------------------------------------------\u001b[0m",
      "\u001b[0;31mModuleNotFoundError\u001b[0m                       Traceback (most recent call last)",
      "\u001b[0;32m<ipython-input-1-b563f6962278>\u001b[0m in \u001b[0;36m<module>\u001b[0;34m\u001b[0m\n\u001b[0;32m----> 1\u001b[0;31m \u001b[0;32mfrom\u001b[0m \u001b[0mdataset\u001b[0m \u001b[0;32mimport\u001b[0m \u001b[0mDataset\u001b[0m\u001b[0;34m\u001b[0m\u001b[0;34m\u001b[0m\u001b[0m\n\u001b[0m",
      "\u001b[0;32m~/minju/code-seminar/02-dataloader/dataset.py\u001b[0m in \u001b[0;36m<module>\u001b[0;34m\u001b[0m\n\u001b[1;32m      3\u001b[0m \u001b[0;32mimport\u001b[0m \u001b[0mnumpy\u001b[0m \u001b[0;32mas\u001b[0m \u001b[0mnp\u001b[0m\u001b[0;34m\u001b[0m\u001b[0;34m\u001b[0m\u001b[0m\n\u001b[1;32m      4\u001b[0m \u001b[0;34m\u001b[0m\u001b[0m\n\u001b[0;32m----> 5\u001b[0;31m \u001b[0;32mimport\u001b[0m \u001b[0mtorch\u001b[0m\u001b[0;34m\u001b[0m\u001b[0;34m\u001b[0m\u001b[0m\n\u001b[0m\u001b[1;32m      6\u001b[0m \u001b[0;32mfrom\u001b[0m \u001b[0mtorch\u001b[0m\u001b[0;34m.\u001b[0m\u001b[0mutils\u001b[0m \u001b[0;32mimport\u001b[0m \u001b[0mdata\u001b[0m\u001b[0;34m\u001b[0m\u001b[0;34m\u001b[0m\u001b[0m\n\u001b[1;32m      7\u001b[0m \u001b[0;32mimport\u001b[0m \u001b[0mtorch\u001b[0m\u001b[0;34m.\u001b[0m\u001b[0mdistributed\u001b[0m \u001b[0;32mas\u001b[0m \u001b[0mdist\u001b[0m\u001b[0;34m\u001b[0m\u001b[0;34m\u001b[0m\u001b[0m\n",
      "\u001b[0;31mModuleNotFoundError\u001b[0m: No module named 'torch'"
     ]
    }
   ],
   "source": [
    "from dataset import Dataset"
   ]
  },
  {
   "cell_type": "code",
   "execution_count": null,
   "metadata": {},
   "outputs": [],
   "source": [
    "if __name__ == \"__main__\":\n",
    "    import matplotlib.pyplot as plt\n",
    "    import transform\n",
    "    \n",
    "    root='./coco'\n",
    "    # print(root)\n",
    "    value_scale = 255\n",
    "    mean = [0.485, 0.456, 0.406]\n",
    "    mean = [item * value_scale for item in mean]\n",
    "    std = [0.229, 0.224, 0.225]\n",
    "    std = [item * value_scale for item in std]\n",
    "\n",
    "    train_transform = transform.Compose([\n",
    "        transform.RandScale([0.5,2]),\n",
    "        transform.RandomHorizontalFlip(),\n",
    "        transform.Crop([713, 713], crop_type='rand', padding=mean, ignore_label=255),\n",
    "        transform.ToTensor(),\n",
    "        transform.Normalize(mean=mean, std=std)\n",
    "        ])\n",
    "\n",
    "\n",
    "    dataset = Dataset(root, transforms = train_transform)\n",
    "    print(len(dataset))\n",
    "    img, label = dataset.__getitem__(0)\n",
    "    print(img.dtype)\n",
    "    print(label.shape)\n",
    "    fig_in = plt.figure()\n",
    "    ax = fig_in.add_subplot(1,2,1)\n",
    "    ax.imshow(img)\n",
    "    ax = fig_in.add_subplot(1,2,2)\n",
    "    ax.imshow(label)\n",
    "    plt.show()"
   ]
  }
 ],
 "metadata": {
  "interpreter": {
   "hash": "735ca55e8a53331c767e7660433af029be6a86c33db711221777f5c3fb9431ee"
  },
  "kernelspec": {
   "display_name": "Python 3.8.12 64-bit ('kaucar': conda)",
   "language": "python",
   "name": "python3"
  },
  "language_info": {
   "codemirror_mode": {
    "name": "ipython",
    "version": 3
   },
   "file_extension": ".py",
   "mimetype": "text/x-python",
   "name": "python",
   "nbconvert_exporter": "python",
   "pygments_lexer": "ipython3",
   "version": "3.6.13"
  },
  "orig_nbformat": 4
 },
 "nbformat": 4,
 "nbformat_minor": 2
}
